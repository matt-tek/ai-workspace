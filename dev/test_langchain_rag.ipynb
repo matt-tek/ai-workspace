{
 "cells": [
  {
   "cell_type": "markdown",
   "id": "00011919",
   "metadata": {},
   "source": [
    "# **Test rag implementation with langchain**"
   ]
  },
  {
   "cell_type": "markdown",
   "id": "b531f77d",
   "metadata": {},
   "source": [
    "## Document preprocessing with langchain to load, split and embed and vectorize"
   ]
  },
  {
   "cell_type": "code",
   "execution_count": 1,
   "id": "31fd9aa8",
   "metadata": {},
   "outputs": [
    {
     "name": "stdout",
     "output_type": "stream",
     "text": [
      "True\n"
     ]
    }
   ],
   "source": [
    "from dotenv import load_dotenv\n",
    "\n",
    "env = load_dotenv()\n",
    "print(env)"
   ]
  },
  {
   "cell_type": "markdown",
   "id": "a527ad76",
   "metadata": {},
   "source": [
    "Load document from file\n"
   ]
  },
  {
   "cell_type": "code",
   "execution_count": 29,
   "id": "ad717439",
   "metadata": {},
   "outputs": [
    {
     "name": "stdout",
     "output_type": "stream",
     "text": [
      "18\n"
     ]
    }
   ],
   "source": [
    "from langchain_community.document_loaders import PyPDFLoader\n",
    "\n",
    "# file_path = \"/Users/mathieumuty/Repository/test/ai-test/dev/datasets/docker_cheatsheet_cli.pdf\"\n",
    "file_path = \"/Users/mathieumuty/Repository/test/ai-test/dev/datasets/rfc6750.pdf\"\n",
    "loader = PyPDFLoader(file_path)\n",
    "\n",
    "docs = loader.load()\n",
    "\n",
    "print(len(docs))"
   ]
  },
  {
   "cell_type": "markdown",
   "id": "f3588829",
   "metadata": {},
   "source": [
    "Print head of the docs to see the content"
   ]
  },
  {
   "cell_type": "code",
   "execution_count": 30,
   "id": "75738d4c",
   "metadata": {},
   "outputs": [
    {
     "name": "stdout",
     "output_type": "stream",
     "text": [
      "Internet Engineering Task Force (IETF)                          M. Jones\n",
      "Request for Comments: 6750                                     Microsoft\n",
      "Category: Standards Track                             \n",
      "\n",
      "{'producer': 'GPL Ghostscript 8.62', 'creator': 'GNU enscript 1.6.4', 'creationdate': '2012-10-12T15:41:32-07:00', 'moddate': '2012-10-12T15:41:32-07:00', 'title': 'Enscript Output', 'author': 'RFC Editor', 'source': '/Users/mathieumuty/Repository/test/ai-test/dev/datasets/rfc6750.pdf', 'total_pages': 18, 'page': 0, 'page_label': '1'}\n"
     ]
    }
   ],
   "source": [
    "print(f\"{docs[0].page_content[:200]}\\n\")\n",
    "print(docs[0].metadata)"
   ]
  },
  {
   "cell_type": "markdown",
   "id": "8e4c6cc4",
   "metadata": {},
   "source": [
    "Split the document into chunks"
   ]
  },
  {
   "cell_type": "code",
   "execution_count": 31,
   "id": "193c2004",
   "metadata": {},
   "outputs": [
    {
     "data": {
      "text/plain": [
       "53"
      ]
     },
     "execution_count": 31,
     "metadata": {},
     "output_type": "execute_result"
    }
   ],
   "source": [
    "from langchain_text_splitters import RecursiveCharacterTextSplitter\n",
    "\n",
    "text_splitter = RecursiveCharacterTextSplitter(\n",
    "    chunk_size=1000, chunk_overlap=200, add_start_index=True\n",
    ")\n",
    "all_splits = text_splitter.split_documents(docs)\n",
    "\n",
    "len(all_splits)"
   ]
  },
  {
   "cell_type": "markdown",
   "id": "8bbc7638",
   "metadata": {},
   "source": [
    "Embed the chunks"
   ]
  },
  {
   "cell_type": "code",
   "execution_count": 32,
   "id": "b830a40a",
   "metadata": {},
   "outputs": [
    {
     "name": "stdout",
     "output_type": "stream",
     "text": [
      "Generated vectors of length 3072\n",
      "\n",
      "[0.0001845460938056931, -0.05336429551243782, -0.005305427126586437, 0.009870794601738453, 0.0015176221495494246, 0.004175336100161076, -0.008800707757472992, 0.041963376104831696, -0.03458278253674507, -0.012240985408425331]\n"
     ]
    }
   ],
   "source": [
    "from langchain_openai import OpenAIEmbeddings\n",
    "\n",
    "embeddings = OpenAIEmbeddings(model=\"text-embedding-3-large\")\n",
    "vector_1 = embeddings.embed_query(all_splits[0].page_content)\n",
    "vector_2 = embeddings.embed_query(all_splits[1].page_content)\n",
    "\n",
    "assert len(vector_1) == len(vector_2)\n",
    "print(f\"Generated vectors of length {len(vector_1)}\\n\")\n",
    "print(vector_1[:10])"
   ]
  },
  {
   "cell_type": "markdown",
   "id": "14792930",
   "metadata": {},
   "source": [
    "Store vector in in Memory langchain vector store"
   ]
  },
  {
   "cell_type": "code",
   "execution_count": 33,
   "id": "efc3bb1a",
   "metadata": {},
   "outputs": [],
   "source": [
    "from langchain_core.vectorstores import InMemoryVectorStore\n",
    "\n",
    "vector_store = InMemoryVectorStore(embeddings)\n",
    "ids = vector_store.add_documents(documents=all_splits)"
   ]
  },
  {
   "cell_type": "markdown",
   "id": "b9207e46",
   "metadata": {},
   "source": [
    "Test retrieval"
   ]
  },
  {
   "cell_type": "code",
   "execution_count": 34,
   "id": "55425b4f",
   "metadata": {},
   "outputs": [
    {
     "name": "stdout",
     "output_type": "stream",
     "text": [
      "page_content='RFC 6750              OAuth 2.0 Bearer Token Usage          October 2012\n",
      "   The access token provides an abstraction, replacing different\n",
      "   authorization constructs (e.g., username and password, assertion) for\n",
      "   a single token understood by the resource server.  This abstraction\n",
      "   enables issuing access tokens valid for a short time period, as well\n",
      "   as removing the resource server’s need to understand a wide range of\n",
      "   authentication schemes.\n",
      "     +--------+                               +---------------+\n",
      "     |        |--(A)- Authorization Request ->|   Resource    |\n",
      "     |        |                               |     Owner     |\n",
      "     |        |<-(B)-- Authorization Grant ---|               |\n",
      "     |        |                               +---------------+\n",
      "     |        |\n",
      "     |        |                               +---------------+\n",
      "     |        |--(C)-- Authorization Grant -->| Authorization |\n",
      "     | Client |                               |     Server    |' metadata={'producer': 'GPL Ghostscript 8.62', 'creator': 'GNU enscript 1.6.4', 'creationdate': '2012-10-12T15:41:32-07:00', 'moddate': '2012-10-12T15:41:32-07:00', 'title': 'Enscript Output', 'author': 'RFC Editor', 'source': '/Users/mathieumuty/Repository/test/ai-test/dev/datasets/rfc6750.pdf', 'total_pages': 18, 'page': 3, 'page_label': '4', 'start_index': 0}\n"
     ]
    }
   ],
   "source": [
    "results = vector_store.similarity_search(\n",
    "    \"What is an access token ?\"\n",
    ")\n",
    "\n",
    "print(results[0])"
   ]
  },
  {
   "cell_type": "markdown",
   "id": "b96c74a2",
   "metadata": {},
   "source": [
    "Test async retrieval"
   ]
  },
  {
   "cell_type": "code",
   "execution_count": 35,
   "id": "61d0c1d3",
   "metadata": {},
   "outputs": [
    {
     "name": "stdout",
     "output_type": "stream",
     "text": [
      "page_content='protected from disclosure in storage and in transport.\n",
      "Status of This Memo\n",
      "   This is an Internet Standards Track document.\n",
      "   This document is a product of the Internet Engineering Task Force\n",
      "   (IETF).  It represents the consensus of the IETF community.  It has\n",
      "   received public review and has been approved for publication by the\n",
      "   Internet Engineering Steering Group (IESG).  Further information on\n",
      "   Internet Standards is available in Section 2 of RFC 5741.\n",
      "   Information about the current status of this document, any errata,\n",
      "   and how to provide feedback on it may be obtained at\n",
      "   http://www.rfc-editor.org/info/rfc6750.\n",
      "Copyright Notice\n",
      "   Copyright (c) 2012 IETF Trust and the persons identified as the\n",
      "   document authors.  All rights reserved.\n",
      "   This document is subject to BCP 78 and the IETF Trust’s Legal\n",
      "   Provisions Relating to IETF Documents\n",
      "   (http://trustee.ietf.org/license-info) in effect on the date of' metadata={'producer': 'GPL Ghostscript 8.62', 'creator': 'GNU enscript 1.6.4', 'creationdate': '2012-10-12T15:41:32-07:00', 'moddate': '2012-10-12T15:41:32-07:00', 'title': 'Enscript Output', 'author': 'RFC Editor', 'source': '/Users/mathieumuty/Repository/test/ai-test/dev/datasets/rfc6750.pdf', 'total_pages': 18, 'page': 0, 'page_label': '1', 'start_index': 782}\n"
     ]
    }
   ],
   "source": [
    "results = await vector_store.asimilarity_search(\"How to delete a volume?\")\n",
    "\n",
    "print(results[0])"
   ]
  },
  {
   "cell_type": "markdown",
   "id": "b4811ea3",
   "metadata": {},
   "source": [
    "Return chunk of doc associated with the vector"
   ]
  },
  {
   "cell_type": "code",
   "execution_count": 36,
   "id": "4e38e59d",
   "metadata": {},
   "outputs": [
    {
     "name": "stdout",
     "output_type": "stream",
     "text": [
      "page_content='utilizing some form of tokens.  This list of threats is based on NIST\n",
      "   Special Publication 800-63 [NIST800-63].  Since this document builds\n",
      "   on the OAuth 2.0 Authorization specification [RFC6749], we exclude a\n",
      "   discussion of threats that are described there or in related\n",
      "   documents.\n",
      "   Token manufacture/modification:  An attacker may generate a bogus\n",
      "      token or modify the token contents (such as the authentication or\n",
      "      attribute statements) of an existing token, causing the resource\n",
      "      server to grant inappropriate access to the client.  For example,\n",
      "      an attacker may modify the token to extend the validity period; a\n",
      "      malicious client may modify the assertion to gain access to\n",
      "      information that they should not be able to view.\n",
      "   Token disclosure:  Tokens may contain authentication and attribute\n",
      "      statements that include sensitive information.\n",
      "Jones & Hardt                Standards Track                   [Page 10]' metadata={'producer': 'GPL Ghostscript 8.62', 'creator': 'GNU enscript 1.6.4', 'creationdate': '2012-10-12T15:41:32-07:00', 'moddate': '2012-10-12T15:41:32-07:00', 'title': 'Enscript Output', 'author': 'RFC Editor', 'source': '/Users/mathieumuty/Repository/test/ai-test/dev/datasets/rfc6750.pdf', 'total_pages': 18, 'page': 9, 'page_label': '10', 'start_index': 824}\n"
     ]
    }
   ],
   "source": [
    "embedding = embeddings.embed_query(\"What are the security threat ?\")\n",
    "\n",
    "results = vector_store.similarity_search_by_vector(embedding)\n",
    "print(results[0])"
   ]
  },
  {
   "cell_type": "markdown",
   "id": "f8cd7efc",
   "metadata": {},
   "source": [
    "## Rag implementation\n"
   ]
  },
  {
   "cell_type": "markdown",
   "id": "754eeb09",
   "metadata": {},
   "source": [
    "Load chatgpt client"
   ]
  },
  {
   "cell_type": "code",
   "execution_count": 28,
   "id": "d81eaf51",
   "metadata": {},
   "outputs": [],
   "source": [
    "from langchain_openai import ChatOpenAI\n",
    "\n",
    "\n",
    "llm = ChatOpenAI()"
   ]
  },
  {
   "cell_type": "code",
   "execution_count": null,
   "id": "db475eba",
   "metadata": {},
   "outputs": [
    {
     "name": "stdout",
     "output_type": "stream",
     "text": [
      "You are an assistant for question-answering tasks. Use the following pieces of retrieved context to answer the question. If you don't know the answer, just say that you don't know. Use three sentences maximum and keep the answer concise.\n",
      "Question: (what is a bearer token?) \n",
      "Context: (i build an app and i implement my own version of 0Auth) \n",
      "Answer:\n"
     ]
    }
   ],
   "source": [
    "from langchain import hub\n",
    "\n",
    "prompt = hub.pull(\"rlm/rag-prompt\")\n",
    "\n",
    "example_messages = prompt.invoke(\n",
    "    {\"context\": \"(i build an app and i implement my own version of 0Auth)\", \"question\": \"(what is a bearer token?)\"}\n",
    ").to_messages()\n",
    "\n",
    "assert len(example_messages) == 1\n",
    "print(example_messages[0].content)"
   ]
  },
  {
   "cell_type": "code",
   "execution_count": 45,
   "id": "2d522926",
   "metadata": {},
   "outputs": [],
   "source": [
    "from langchain_core.documents import Document\n",
    "from typing_extensions import List, TypedDict\n",
    "from typing import Literal\n",
    "from typing_extensions import Annotated\n",
    "\n",
    "\n",
    "class Search(TypedDict):\n",
    "    \"\"\"Search query.\"\"\"\n",
    "    query: Annotated[str, ..., \"Search query to run.\"]\n",
    "    section: Annotated[\n",
    "        Literal[\"beginning\", \"middle\", \"end\"],\n",
    "        ...,\n",
    "        \"Section to query.\",\n",
    "    ]\n",
    "\n",
    "class State(TypedDict):\n",
    "    question: str\n",
    "    query: Search\n",
    "    context: List[Document]\n",
    "    answer: str\n",
    "\n",
    "def analyze_query(state: State):\n",
    "    structured_llm = llm.with_structured_output(Search)\n",
    "    query = structured_llm.invoke(state[\"question\"])\n",
    "    return {\"query\": query}\n",
    "\n",
    "\n",
    "def retrieve(state: State):\n",
    "    query = state[\"query\"]\n",
    "    retrieved_docs = vector_store.similarity_search(\n",
    "        query[\"query\"],\n",
    "        filter=lambda doc: doc.metadata.get(\"section\") == query[\"section\"],\n",
    "    )\n",
    "    return {\"context\": retrieved_docs}\n",
    "\n",
    "\n",
    "def generate(state: State):\n",
    "    docs_content = \"\\n\\n\".join(doc.page_content for doc in state[\"context\"])\n",
    "    messages = prompt.invoke({\"question\": state[\"question\"], \"context\": docs_content})\n",
    "    response = llm.invoke(messages)\n",
    "    return {\"answer\": response.content}"
   ]
  },
  {
   "cell_type": "code",
   "execution_count": 46,
   "id": "33035932",
   "metadata": {},
   "outputs": [],
   "source": [
    "from langgraph.graph import START, StateGraph\n",
    "\n",
    "graph_builder = StateGraph(State).add_sequence([analyze_query, retrieve, generate])\n",
    "graph_builder.add_edge(START, \"analyze_query\")\n",
    "graph = graph_builder.compile()"
   ]
  },
  {
   "cell_type": "code",
   "execution_count": 47,
   "id": "b254e652",
   "metadata": {},
   "outputs": [
    {
     "data": {
      "text/plain": [
       "{'producer': 'GPL Ghostscript 8.62',\n",
       " 'creator': 'GNU enscript 1.6.4',\n",
       " 'creationdate': '2012-10-12T15:41:32-07:00',\n",
       " 'moddate': '2012-10-12T15:41:32-07:00',\n",
       " 'title': 'Enscript Output',\n",
       " 'author': 'RFC Editor',\n",
       " 'source': '/Users/mathieumuty/Repository/test/ai-test/dev/datasets/rfc6750.pdf',\n",
       " 'total_pages': 18,\n",
       " 'page': 0,\n",
       " 'page_label': '1',\n",
       " 'start_index': 0,\n",
       " 'section': 'beginning'}"
      ]
     },
     "execution_count": 47,
     "metadata": {},
     "output_type": "execute_result"
    }
   ],
   "source": [
    "total_documents = len(all_splits)\n",
    "third = total_documents // 3\n",
    "\n",
    "for i, document in enumerate(all_splits):\n",
    "    if i < third:\n",
    "        document.metadata[\"section\"] = \"beginning\"\n",
    "    elif i < 2 * third:\n",
    "        document.metadata[\"section\"] = \"middle\"\n",
    "    else:\n",
    "        document.metadata[\"section\"] = \"end\"\n",
    "\n",
    "\n",
    "all_splits[0].metadata"
   ]
  },
  {
   "cell_type": "code",
   "execution_count": 48,
   "id": "0fd4f7ee",
   "metadata": {},
   "outputs": [],
   "source": [
    "from langchain_core.vectorstores import InMemoryVectorStore\n",
    "\n",
    "vector_store = InMemoryVectorStore(embeddings)\n",
    "_ = vector_store.add_documents(all_splits)"
   ]
  },
  {
   "cell_type": "markdown",
   "id": "c5186d56",
   "metadata": {},
   "source": [
    "Get the result"
   ]
  },
  {
   "cell_type": "code",
   "execution_count": 49,
   "id": "b58123c4",
   "metadata": {},
   "outputs": [
    {
     "name": "stderr",
     "output_type": "stream",
     "text": [
      "/Users/mathieumuty/Repository/test/ai-test/dev/.venv/lib/python3.11/site-packages/langchain_openai/chat_models/base.py:1673: UserWarning: Cannot use method='json_schema' with model gpt-3.5-turbo since it doesn't support OpenAI's Structured Output API. You can see supported models here: https://platform.openai.com/docs/guides/structured-outputs#supported-models. To fix this warning, set `method='function_calling'. Overriding to method='function_calling'.\n",
      "  warnings.warn(\n"
     ]
    },
    {
     "name": "stdout",
     "output_type": "stream",
     "text": [
      "Context: [Document(id='c0b730be-8d9d-4532-885e-2d5a59d96d13', metadata={'producer': 'GPL Ghostscript 8.62', 'creator': 'GNU enscript 1.6.4', 'creationdate': '2012-10-12T15:41:32-07:00', 'moddate': '2012-10-12T15:41:32-07:00', 'title': 'Enscript Output', 'author': 'RFC Editor', 'source': '/Users/mathieumuty/Repository/test/ai-test/dev/datasets/rfc6750.pdf', 'total_pages': 18, 'page': 4, 'page_label': '5', 'start_index': 832, 'section': 'beginning'}, page_content='practice outlined therein in order to reflect existing deployments.\\n   The syntax for Bearer credentials is as follows:\\n     b64token    = 1*( ALPHA / DIGIT /\\n                       \"-\" / \".\" / \"_\" / \"˜\" / \"+\" / \"/\" ) *\"=\"\\n     credentials = \"Bearer\" 1*SP b64token\\n   Clients SHOULD make authenticated requests with a bearer token using\\n   the \"Authorization\" request header field with the \"Bearer\" HTTP\\n   authorization scheme.  Resource servers MUST support this method.\\n2.2.  Form-Encoded Body Parameter\\n   When sending the access token in the HTTP request entity-body, the\\n   client adds the access token to the request-body using the\\n   \"access_token\" parameter.  The client MUST NOT use this method unless\\n   all of the following conditions are met:\\n   o  The HTTP request entity-header includes the \"Content-Type\" header\\n      field set to \"application/x-www-form-urlencoded\".\\n   o  The entity-body follows the encoding requirements of the'), Document(id='749dc6d1-4ebe-448a-89d0-71ae702f438d', metadata={'producer': 'GPL Ghostscript 8.62', 'creator': 'GNU enscript 1.6.4', 'creationdate': '2012-10-12T15:41:32-07:00', 'moddate': '2012-10-12T15:41:32-07:00', 'title': 'Enscript Output', 'author': 'RFC Editor', 'source': '/Users/mathieumuty/Repository/test/ai-test/dev/datasets/rfc6750.pdf', 'total_pages': 18, 'page': 1, 'page_label': '2', 'start_index': 2450, 'section': 'beginning'}, page_content='access the protected resources hosted by the resource server.  This\\n   specification describes how to make protected resource requests when\\n   the OAuth access token is a bearer token.\\n   This specification defines the use of bearer tokens over HTTP/1.1\\n   [RFC2616] using Transport Layer Security (TLS) [RFC5246] to access\\n   protected resources.  TLS is mandatory to implement and use with this\\n   specification; other specifications may extend this specification for\\n   use with other protocols.  While designed for use with access tokens\\nJones & Hardt                Standards Track                    [Page 2]'), Document(id='4266aef3-5ebc-4520-810b-eec6cf2ab5c6', metadata={'producer': 'GPL Ghostscript 8.62', 'creator': 'GNU enscript 1.6.4', 'creationdate': '2012-10-12T15:41:32-07:00', 'moddate': '2012-10-12T15:41:32-07:00', 'title': 'Enscript Output', 'author': 'RFC Editor', 'source': '/Users/mathieumuty/Repository/test/ai-test/dev/datasets/rfc6750.pdf', 'total_pages': 18, 'page': 3, 'page_label': '4', 'start_index': 0, 'section': 'beginning'}, page_content='RFC 6750              OAuth 2.0 Bearer Token Usage          October 2012\\n   The access token provides an abstraction, replacing different\\n   authorization constructs (e.g., username and password, assertion) for\\n   a single token understood by the resource server.  This abstraction\\n   enables issuing access tokens valid for a short time period, as well\\n   as removing the resource server’s need to understand a wide range of\\n   authentication schemes.\\n     +--------+                               +---------------+\\n     |        |--(A)- Authorization Request ->|   Resource    |\\n     |        |                               |     Owner     |\\n     |        |<-(B)-- Authorization Grant ---|               |\\n     |        |                               +---------------+\\n     |        |\\n     |        |                               +---------------+\\n     |        |--(C)-- Authorization Grant -->| Authorization |\\n     | Client |                               |     Server    |'), Document(id='f7e9eec4-c649-4c74-8a8e-e0a496da299a', metadata={'producer': 'GPL Ghostscript 8.62', 'creator': 'GNU enscript 1.6.4', 'creationdate': '2012-10-12T15:41:32-07:00', 'moddate': '2012-10-12T15:41:32-07:00', 'title': 'Enscript Output', 'author': 'RFC Editor', 'source': '/Users/mathieumuty/Repository/test/ai-test/dev/datasets/rfc6750.pdf', 'total_pages': 18, 'page': 4, 'page_label': '5', 'start_index': 0, 'section': 'beginning'}, page_content='RFC 6750              OAuth 2.0 Bearer Token Usage          October 2012\\n2.1.  Authorization Request Header Field\\n   When sending the access token in the \"Authorization\" request header\\n   field defined by HTTP/1.1 [RFC2617], the client uses the \"Bearer\"\\n   authentication scheme to transmit the access token.\\n   For example:\\n     GET /resource HTTP/1.1\\n     Host: server.example.com\\n     Authorization: Bearer mF_9.B5f-4.1JqM\\n   The syntax of the \"Authorization\" header field for this scheme\\n   follows the usage of the Basic scheme defined in Section 2 of\\n   [RFC2617].  Note that, as with Basic, it does not conform to the\\n   generic syntax defined in Section 1.2 of [RFC2617] but is compatible\\n   with the general authentication framework being developed for\\n   HTTP 1.1 [HTTP-AUTH], although it does not follow the preferred\\n   practice outlined therein in order to reflect existing deployments.\\n   The syntax for Bearer credentials is as follows:\\n     b64token    = 1*( ALPHA / DIGIT /')]\n",
      "\n",
      "\n",
      "Answer: A bearer token is a type of access token that clients should use to make authenticated requests using the \"Authorization\" request header field with the \"Bearer\" HTTP authorization scheme. Resource servers must support this method of authentication. Bearer tokens provide an abstraction for granting access to protected resources without needing to understand a wide range of authentication schemes.\n"
     ]
    }
   ],
   "source": [
    "result = graph.invoke({\"question\": \"what is a bearer token?\"})\n",
    "\n",
    "print(f'Context: {result[\"context\"]}\\n\\n')\n",
    "print(f'Answer: {result[\"answer\"]}')"
   ]
  },
  {
   "cell_type": "code",
   "execution_count": 52,
   "id": "0c8d71e8",
   "metadata": {},
   "outputs": [
    {
     "data": {
      "image/png": "[encoded data removed]",
      "text/plain": [
       "<IPython.core.display.Image object>"
      ]
     },
     "metadata": {},
     "output_type": "display_data"
    }
   ],
   "source": [
    "from IPython.display import Image, display\n",
    "display(Image(graph.get_graph().draw_mermaid_png()))"
   ]
  }
 ],
 "metadata": {
  "kernelspec": {
   "display_name": ".venv",
   "language": "python",
   "name": "python3"
  },
  "language_info": {
   "codemirror_mode": {
    "name": "ipython",
    "version": 3
   },
   "file_extension": ".py",
   "mimetype": "text/x-python",
   "name": "python",
   "nbconvert_exporter": "python",
   "pygments_lexer": "ipython3",
   "version": "3.11.4"
  }
 },
 "nbformat": 4,
 "nbformat_minor": 5
}
