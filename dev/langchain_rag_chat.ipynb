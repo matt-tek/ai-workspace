{
 "cells": [
  {
   "cell_type": "markdown",
   "id": "4c272146",
   "metadata": {},
   "source": [
    "# **Langchain RAG with chat**"
   ]
  },
  {
   "cell_type": "markdown",
   "id": "78132d33",
   "metadata": {},
   "source": [
    "RAG made from the previous exemple"
   ]
  },
  {
   "cell_type": "code",
   "execution_count": 1,
   "id": "37d8ea75",
   "metadata": {},
   "outputs": [],
   "source": [
    "# import\n",
    "from dotenv import load_dotenv\n",
    "from typing import Literal\n",
    "from typing_extensions import List, TypedDict\n",
    "from typing_extensions import Annotated\n",
    "\n",
    "from langchain_text_splitters import RecursiveCharacterTextSplitter\n",
    "from langchain_community.document_loaders import PyPDFLoader\n",
    "from langchain_core.vectorstores import InMemoryVectorStore\n",
    "from langchain_core.documents import Document\n",
    "from langchain_core.runnables import chain\n",
    "from langchain_core.messages import SystemMessage\n",
    "from langchain_core.tools import tool\n",
    "from langchain.chat_models import init_chat_model\n",
    "from langchain_openai import OpenAIEmbeddings\n",
    "from langchain_openai import ChatOpenAI\n",
    "\n",
    "from langgraph.graph import START, StateGraph, MessagesState, END\n",
    "from langgraph.prebuilt import ToolNode, tools_condition\n",
    "from langgraph.checkpoint.memory import MemorySaver\n"
   ]
  },
  {
   "cell_type": "code",
   "execution_count": 56,
   "id": "b1ec16fe",
   "metadata": {},
   "outputs": [
    {
     "name": "stdout",
     "output_type": "stream",
     "text": [
      "document length : 212\n",
      "Number of chunck from text splitter : 756\n",
      "[[Document(id='e0515870-0402-4a5b-b29f-bb43007af588', metadata={'producer': 'macOS Version 10.15.7 (assemblage 19H1824) Quartz PDFContext, AppendMode 1.1', 'creator': 'Adobe InDesign 14.0 (Macintosh)', 'creationdate': '2019-10-04T13:42:55-04:00', 'trapped': '/False', 'moddate': \"D:20220331142820Z00'00'\", 'source': '/Users/mathieumuty/Repository/ai-workspace/dev/datasets/la-personne-transforme.pdf', 'total_pages': 212, 'page': 170, 'page_label': '159', 'start_index': 1537}, page_content='indiquant d’abord de quel type d’intelligence algorithmique il s’agit et comment \\ncelle-ci fonctionne aujourd’hui. \\nImpact réel. L ’impact réel est la prise de décision fiable, valide et rapide, \\nlorsqu’il est possible de tester des systèmes d’aide à la décision efficaces : \\n Apprendre à un système à reconnaître, sur une photographie aérienne \\nd’une zone maritime, les différents navires présents peut servir à confronter \\nl’emplacement des embarcations ainsi repérées aux signaux émis par les \\nbalises et à identifier des navires en perdition ou qui cherchent à se sous-\\ntraire à la surveillance maritime. L ’intérêt réside dans la rapidité d’une \\nopération qui, si elle n’est pas automatisée, réclame un temps et des moyens \\nconsidérables. Depuis quelques années, les progrès de ces techniques sont \\ntels que la machine surpasse désormais l’humain pour la fiabilité de \\nl’identification de navires parfois difficilement distinguables de nuages24.')]]\n"
     ]
    }
   ],
   "source": [
    "load_dotenv()\n",
    "# file_path = \"/Users/mathieumuty/Repository/test/ai-test/dev/datasets/docker_cheatsheet_cli.pdf\"\n",
    "file_path = \"/Users/mathieumuty/Repository/ai-workspace/dev/datasets/la-personne-transforme.pdf\"\n",
    "# file_path = \"/Users/mathieumuty/Repository/test/ai-test/dev/datasets/rfc6750.pdf\"\n",
    "\n",
    "loader = PyPDFLoader(file_path)\n",
    "\n",
    "docs = loader.load()\n",
    "\n",
    "text_splitter = RecursiveCharacterTextSplitter(\n",
    "    chunk_size=1000, chunk_overlap=200, add_start_index=True\n",
    ")\n",
    "embeddings = OpenAIEmbeddings(model=\"text-embedding-3-large\")\n",
    "vector_store = InMemoryVectorStore(embeddings)\n",
    "\n",
    "all_splits = text_splitter.split_documents(docs)\n",
    "ids = vector_store.add_documents(documents=all_splits)\n",
    "\n",
    "\n",
    "\n",
    "@chain\n",
    "def retriever(query: str) -> List[Document]:\n",
    "    return vector_store.similarity_search(query, k=1)\n",
    "\n",
    "def retrieve_document_data(query: str, extend_index: int) -> Document:\n",
    "    return vector_store.similarity_search(query, k=extend_index)\n",
    "\n",
    "def run_all_check() -> None:\n",
    "    print(f\"document length : {len(docs)}\")\n",
    "    print(f\"Number of chunck from text splitter : {len(all_splits)}\")\n",
    "    # print(retrieve_document_data('how do build a container ?', 1))\n",
    "    print(retriever.batch([\n",
    "        \"delete a docker image?\"\n",
    "    ]))\n",
    "\n",
    "run_all_check()\n"
   ]
  },
  {
   "cell_type": "markdown",
   "id": "6dda36e9",
   "metadata": {},
   "source": [
    "Part 2 : Chat "
   ]
  },
  {
   "cell_type": "code",
   "execution_count": 57,
   "id": "65008c69",
   "metadata": {},
   "outputs": [],
   "source": [
    "\n",
    "llm = init_chat_model(\"gpt-4o-mini\", model_provider=\"openai\")\n",
    "\n",
    "graph_builder = StateGraph(MessagesState)\n",
    "\n",
    "@tool(response_format=\"content_and_artifact\")\n",
    "def retrieve(query: str):\n",
    "    \"\"\"Retrieve information related to a query.\"\"\"\n",
    "    retrieved_docs = vector_store.similarity_search(query, k=2)\n",
    "    serialized = \"\\n\\n\".join(\n",
    "        (f\"Source: {doc.metadata}\\n\" f\"Content: {doc.page_content}\")\n",
    "        for doc in retrieved_docs\n",
    "    )\n",
    "    return serialized, retrieved_docs"
   ]
  },
  {
   "cell_type": "code",
   "execution_count": 58,
   "id": "64d872a0",
   "metadata": {},
   "outputs": [],
   "source": [
    "# Step 1: Generate an AIMessage that may include a tool-call to be sent.\n",
    "def query_or_respond(state: MessagesState):\n",
    "    \"\"\"Generate tool call for retrieval or respond.\"\"\"\n",
    "    llm_with_tools = llm.bind_tools([retrieve])\n",
    "    response = llm_with_tools.invoke(state[\"messages\"])\n",
    "    # MessagesState appends messages to state instead of overwriting\n",
    "    return {\"messages\": [response]}\n",
    "\n",
    "\n",
    "# Step 2: Execute the retrieval.\n",
    "tools = ToolNode([retrieve])\n",
    "\n",
    "\n",
    "# Step 3: Generate a response using the retrieved content.\n",
    "def generate(state: MessagesState):\n",
    "    \"\"\"Generate answer.\"\"\"\n",
    "    # Get generated ToolMessages\n",
    "    recent_tool_messages = []\n",
    "    for message in reversed(state[\"messages\"]):\n",
    "        if message.type == \"tool\":\n",
    "            recent_tool_messages.append(message)\n",
    "        else:\n",
    "            break\n",
    "    tool_messages = recent_tool_messages[::-1]\n",
    "\n",
    "    # Format into prompt\n",
    "    docs_content = \"\\n\\n\".join(doc.content for doc in tool_messages)\n",
    "    system_message_content = (\n",
    "        \"You are an assistant for question-answering tasks. \"\n",
    "        \"Use the following pieces of retrieved context to answer \"\n",
    "        \"the question. If you don't know the answer, say that you \"\n",
    "        \"don't know. Use three sentences maximum and keep the \"\n",
    "        \"answer concise.\"\n",
    "        \"\\n\\n\"\n",
    "        f\"{docs_content}\"\n",
    "    )\n",
    "    conversation_messages = [\n",
    "        message\n",
    "        for message in state[\"messages\"]\n",
    "        if message.type in (\"human\", \"system\")\n",
    "        or (message.type == \"ai\" and not message.tool_calls)\n",
    "    ]\n",
    "    prompt = [SystemMessage(system_message_content)] + conversation_messages\n",
    "\n",
    "    # Run\n",
    "    response = llm.invoke(prompt)\n",
    "    return {\"messages\": [response]}"
   ]
  },
  {
   "cell_type": "code",
   "execution_count": 59,
   "id": "ea19dd33",
   "metadata": {},
   "outputs": [
    {
     "data": {
      "text/plain": [
       "<langgraph.graph.state.StateGraph at 0x11945f6d0>"
      ]
     },
     "execution_count": 59,
     "metadata": {},
     "output_type": "execute_result"
    }
   ],
   "source": [
    "graph_builder.add_node(query_or_respond)\n",
    "graph_builder.add_node(tools)\n",
    "graph_builder.add_node(generate)\n",
    "\n",
    "graph_builder.set_entry_point(\"query_or_respond\")\n",
    "graph_builder.add_conditional_edges(\n",
    "    \"query_or_respond\",\n",
    "    tools_condition,\n",
    "    {END: END, \"tools\": \"tools\"},\n",
    ")\n",
    "graph_builder.add_edge(\"tools\", \"generate\")\n",
    "graph_builder.add_edge(\"generate\", END)\n"
   ]
  },
  {
   "cell_type": "markdown",
   "id": "22e003c1",
   "metadata": {},
   "source": [
    "Add memory to the chat bot to keep the context of the conversation\n"
   ]
  },
  {
   "cell_type": "code",
   "execution_count": 60,
   "id": "e7928998",
   "metadata": {},
   "outputs": [],
   "source": [
    "memory = MemorySaver()\n",
    "graph = graph_builder.compile(checkpointer=memory)\n",
    "config = {\"configurable\": {\"thread_id\": \"hellototo\"}}"
   ]
  },
  {
   "cell_type": "markdown",
   "id": "eaa823d1",
   "metadata": {},
   "source": [
    "## Test chat without retrieval\n"
   ]
  },
  {
   "cell_type": "code",
   "execution_count": null,
   "id": "288f467a",
   "metadata": {},
   "outputs": [],
   "source": [
    "input_message = \"Hello\"\n",
    "\n",
    "for step in graph.stream(\n",
    "    {\"messages\": [{\"role\": \"user\", \"content\": input_message}]},\n",
    "    stream_mode=\"values\",\n",
    "):\n",
    "    step[\"messages\"][-1].pretty_print()"
   ]
  },
  {
   "cell_type": "markdown",
   "id": "a24b5ddb",
   "metadata": {},
   "source": [
    "## Test Chat with retrieval"
   ]
  },
  {
   "cell_type": "code",
   "execution_count": 63,
   "id": "9cc5cf27",
   "metadata": {},
   "outputs": [
    {
     "name": "stdout",
     "output_type": "stream",
     "text": [
      "================================\u001b[1m Human Message \u001b[0m=================================\n",
      "\n",
      "Quels sont les impacts économique de l'innovation dans les entreprises qui utilisent l'AI\n",
      "==================================\u001b[1m Ai Message \u001b[0m==================================\n",
      "Tool Calls:\n",
      "  retrieve (call_CLOVdt6b05YZXhvp4qZc0T7z)\n",
      " Call ID: call_CLOVdt6b05YZXhvp4qZc0T7z\n",
      "  Args:\n",
      "    query: impacts économiques de l'innovation dans les entreprises utilisant l'IA\n",
      "=================================\u001b[1m Tool Message \u001b[0m=================================\n",
      "Name: retrieve\n",
      "\n",
      "Source: {'producer': 'macOS Version 10.15.7 (assemblage 19H1824) Quartz PDFContext, AppendMode 1.1', 'creator': 'Adobe InDesign 14.0 (Macintosh)', 'creationdate': '2019-10-04T13:42:55-04:00', 'trapped': '/False', 'moddate': \"D:20220331142820Z00'00'\", 'source': '/Users/mathieumuty/Repository/ai-workspace/dev/datasets/la-personne-transforme.pdf', 'total_pages': 212, 'page': 127, 'page_label': '116', 'start_index': 2369}\n",
      "Content: d’analyse réalisé en 2017 par la firme PwC, d’ici 2030, l’intelligence artificielle \n",
      "pourrait contribuer à l’économie globale planétaire jusqu’à concurrence de 15 \n",
      " 7. Voir à titre illustratif R. Jules (25 juillet 2014), « Ce que nous disent les OGM de la France », \n",
      "La Tribune, < https://www.latribune.fr/opinions/tribunes/20140725trib000841661/ce-\n",
      "que-nous-disent-les-ogm-de-la-france.html>.\n",
      "\n",
      "Source: {'producer': 'macOS Version 10.15.7 (assemblage 19H1824) Quartz PDFContext, AppendMode 1.1', 'creator': 'Adobe InDesign 14.0 (Macintosh)', 'creationdate': '2019-10-04T13:42:55-04:00', 'trapped': '/False', 'moddate': \"D:20220331142820Z00'00'\", 'source': '/Users/mathieumuty/Repository/ai-workspace/dev/datasets/la-personne-transforme.pdf', 'total_pages': 212, 'page': 128, 'page_label': '117', 'start_index': 831}\n",
      "Content: pourraient hausser leur rentabilité moyenne de 38 % d’ici 2035, représentant \n",
      "ainsi un fort potentiel de croissance10. De surcroît, l’IA est aussi susceptible de \n",
      "doubler les taux de croissance économique annuelle d’ici 2035 tout en haussant \n",
      "la productivité de la main-d’œuvre jusqu’à 40 % en changeant de manière \n",
      "fondamentale les méthodes de travail 11. Pour Mark Purdy, directeur général \n",
      "d’Accenture Research, « en optimisant les processus avec l’automatisation \n",
      "intelligente, en appuyant la main-d’œuvre humaine et le capital physique, et \n",
      "en propulsant l’innovation, l’IA peut entraîner une rentabilité et une croissance \n",
      "économique exceptionnelle12 ». \n",
      "Compte tenu de l’ampleur des bénéfices attendus, le secteur de l’intelli-\n",
      "gence artificielle représente le fer de lance de plusieurs stratégies nationales en \n",
      "matière d’innovation technologique afin de stimuler et de favoriser leur déve-\n",
      "loppement économique. Par exemple, c’est pour s’imposer comme le « plus\n",
      "==================================\u001b[1m Ai Message \u001b[0m==================================\n",
      "\n",
      "Les entreprises utilisant l'intelligence artificielle peuvent augmenter leur rentabilité moyenne de 38 % d'ici 2035 et doubler leurs taux de croissance économique annuelle. L'IA améliore également la productivité de la main-d'œuvre, qui pourrait augmenter de 40 % grâce à des méthodes de travail optimisées. En intégrant des solutions d'automatisation intelligente, ces entreprises peuvent non seulement accroître leur efficacité, mais aussi stimuler l'innovation et la croissance.\n"
     ]
    }
   ],
   "source": [
    "input_message = \"Quels sont les impacts économique de l'innovation dans les entreprises qui utilisent l'AI\"\n",
    "\n",
    "for step in graph.stream(\n",
    "    {\"messages\": [{\"role\": \"user\", \"content\": input_message}]},\n",
    "    stream_mode=\"values\",\n",
    "    config=config\n",
    "):\n",
    "    step[\"messages\"][-1].pretty_print()"
   ]
  },
  {
   "cell_type": "code",
   "execution_count": 64,
   "id": "70d1da6c",
   "metadata": {},
   "outputs": [
    {
     "name": "stdout",
     "output_type": "stream",
     "text": [
      "================================\u001b[1m Human Message \u001b[0m=================================\n",
      "\n",
      "Comment peut-on l'utiliser pour être plus productif ?\n",
      "==================================\u001b[1m Ai Message \u001b[0m==================================\n",
      "Tool Calls:\n",
      "  retrieve (call_6MOXFkET9xTHpKfZARei0Vm0)\n",
      " Call ID: call_6MOXFkET9xTHpKfZARei0Vm0\n",
      "  Args:\n",
      "    query: comment utiliser l'IA pour améliorer la productivité\n",
      "=================================\u001b[1m Tool Message \u001b[0m=================================\n",
      "Name: retrieve\n",
      "\n",
      "Source: {'producer': 'macOS Version 10.15.7 (assemblage 19H1824) Quartz PDFContext, AppendMode 1.1', 'creator': 'Adobe InDesign 14.0 (Macintosh)', 'creationdate': '2019-10-04T13:42:55-04:00', 'trapped': '/False', 'moddate': \"D:20220331142820Z00'00'\", 'source': '/Users/mathieumuty/Repository/ai-workspace/dev/datasets/la-personne-transforme.pdf', 'total_pages': 212, 'page': 128, 'page_label': '117', 'start_index': 831}\n",
      "Content: pourraient hausser leur rentabilité moyenne de 38 % d’ici 2035, représentant \n",
      "ainsi un fort potentiel de croissance10. De surcroît, l’IA est aussi susceptible de \n",
      "doubler les taux de croissance économique annuelle d’ici 2035 tout en haussant \n",
      "la productivité de la main-d’œuvre jusqu’à 40 % en changeant de manière \n",
      "fondamentale les méthodes de travail 11. Pour Mark Purdy, directeur général \n",
      "d’Accenture Research, « en optimisant les processus avec l’automatisation \n",
      "intelligente, en appuyant la main-d’œuvre humaine et le capital physique, et \n",
      "en propulsant l’innovation, l’IA peut entraîner une rentabilité et une croissance \n",
      "économique exceptionnelle12 ». \n",
      "Compte tenu de l’ampleur des bénéfices attendus, le secteur de l’intelli-\n",
      "gence artificielle représente le fer de lance de plusieurs stratégies nationales en \n",
      "matière d’innovation technologique afin de stimuler et de favoriser leur déve-\n",
      "loppement économique. Par exemple, c’est pour s’imposer comme le « plus\n",
      "\n",
      "Source: {'producer': 'macOS Version 10.15.7 (assemblage 19H1824) Quartz PDFContext, AppendMode 1.1', 'creator': 'Adobe InDesign 14.0 (Macintosh)', 'creationdate': '2019-10-04T13:42:55-04:00', 'trapped': '/False', 'moddate': \"D:20220331142820Z00'00'\", 'source': '/Users/mathieumuty/Repository/ai-workspace/dev/datasets/la-personne-transforme.pdf', 'total_pages': 212, 'page': 128, 'page_label': '117', 'start_index': 2451}\n",
      "Content: Institute for High Performance, p. 3, < https://www.accenture.com/\n",
      "t20170524T055435__w__/ca-en/_acnmedia/PDF-52/Accenture-Why-AI-is-the-Future-\n",
      "of-Growth.pdf>.\n",
      "11. Ibid.\n",
      "12. Accenture (22 juin 2017), « Selon un rapport d’Accenture, l’intelligence artificielle a le poten-\n",
      "tiel d’accroître la rentabilité des entreprises dans 16 secteurs d’une moyenne de 38 pour cent, \n",
      "d’ici 2035 », <https://www.accenture.com/ca-fr/artificial-intelligence-index>.\n",
      "13. Conseil consultatif sur l’économie et l’innovation (Septembre 2017), Agir ensemble. Pour un \n",
      "Québec innovant, inclusif et prospère, p. 88, <http://s3.amazonaws.com/medias.ccei.quebec/\n",
      "report/CCEI_rapport_integrateur.pdf>.\n",
      "==================================\u001b[1m Ai Message \u001b[0m==================================\n",
      "\n",
      "L'intelligence artificielle peut être utilisée pour automatiser les processus répétitifs, libérant ainsi du temps pour que les employés se concentrent sur des tâches à plus forte valeur ajoutée. Elle peut également fournir des analyses de données et des insights pour améliorer la prise de décision et optimiser les opérations. Enfin, l'IA peut soutenir la collaboration et l'innovation en facilitant la communication et en proposant des solutions adaptées aux besoins des utilisateurs.\n"
     ]
    }
   ],
   "source": [
    "input_message = \"Comment peut-on l'utiliser pour être plus productif ?\"\n",
    "\n",
    "for step in graph.stream(\n",
    "    {\"messages\": [{\"role\": \"user\", \"content\": input_message}]},\n",
    "    stream_mode=\"values\",\n",
    "    config=config\n",
    "):\n",
    "    step[\"messages\"][-1].pretty_print()"
   ]
  }
 ],
 "metadata": {
  "kernelspec": {
   "display_name": ".venv",
   "language": "python",
   "name": "python3"
  },
  "language_info": {
   "codemirror_mode": {
    "name": "ipython",
    "version": 3
   },
   "file_extension": ".py",
   "mimetype": "text/x-python",
   "name": "python",
   "nbconvert_exporter": "python",
   "pygments_lexer": "ipython3",
   "version": "3.11.4"
  }
 },
 "nbformat": 4,
 "nbformat_minor": 5
}
